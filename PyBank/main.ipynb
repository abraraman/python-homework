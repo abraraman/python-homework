{
 "cells": [
  {
   "cell_type": "code",
   "execution_count": 14,
   "id": "85db489f-e8e6-4f7e-b09d-68ec81cae7f5",
   "metadata": {},
   "outputs": [
    {
     "name": "stdout",
     "output_type": "stream",
     "text": [
      "Financial Analysis\n",
      "---------------------------\n",
      "Total Months: 86\n",
      "Total: $38382578\n",
      "Average Change: $-2315.1176470588234\n",
      "Greatest Increase in Profits: Feb-2012 ($1926159)\n",
      "Greatest Decrease in Profits: Sep-2013 ($-2196167)\n"
     ]
    }
   ],
   "source": [
    "# Import the CSV library \"budget_data\" using pathlib\n",
    "from pathlib import Path\n",
    "import csv\n",
    "\n",
    "# Set the budget_data.csv path\n",
    "csvpath = Path(\"../PyBank/budget_data.csv\")\n",
    "\n",
    "# Initialize metric variables \n",
    "\n",
    "count = 0\n",
    "total = 0\n",
    "average = 0\n",
    "minimum = 0\n",
    "maximum = 0\n",
    "maximum_date = \"\"\n",
    "minimum_date = \"\"\n",
    "previous_date = \"\"\n",
    "previous_return = 0\n",
    "\n",
    "\n",
    "# Open the csv file as an object\n",
    "with open(csvpath) as csvfile:\n",
    "    \n",
    "    # Pass in the csv file to the csv.reader() function\n",
    "    # (with ',' as the delmiter/separator) and return the csvreader object\n",
    "    csvreader = csv.reader(csvfile, delimiter = ',')\n",
    "    \n",
    "    # Read the header row \n",
    "    csv_header = next(csvreader)\n",
    "\n",
    "    # Read each row of data after the header\n",
    "    for row in csvreader:\n",
    "        Date = row[0]\n",
    "        Return = int(row[1])\n",
    "        total += Return\n",
    "        count += 1\n",
    "    # Setting the Change_pnl to compare the \"change in net profit values\" with the standard profit/loss values\n",
    "        Change_pnl = Return - previous_return\n",
    "        previous_return = Return\n",
    "        previous_date = Date\n",
    "        \n",
    "        # Starts with the second data row\n",
    "        # Loop through the second data row and list the max/min values\n",
    "        if count > 1:\n",
    "            average += (Change_pnl)\n",
    "            \n",
    "            if maximum < (Change_pnl):\n",
    "                maximum = (Change_pnl)\n",
    "                maximum_date = Date\n",
    "                \n",
    "                \n",
    "            elif minimum > (Change_pnl):\n",
    "                minimum = (Change_pnl)\n",
    "                minimum_date = Date\n",
    "                     \n",
    "print(\"Financial Analysis\")        \n",
    "print(\"---------------------------\")        \n",
    "print(f\"Total Months: {count}\")\n",
    "print(f\"Total: ${total}\")\n",
    "print(f\"Average Change: ${average/(count-1)}\")\n",
    "print(f\"Greatest Increase in Profits: {maximum_date} (${maximum})\")\n",
    "print(f\"Greatest Decrease in Profits: {minimum_date} (${minimum})\")\n",
    "\n",
    "\n",
    "\n"
   ]
  },
  {
   "cell_type": "code",
   "execution_count": null,
   "id": "4f4fb68a-4357-4ef3-b7a7-3cf1d6bcecaf",
   "metadata": {},
   "outputs": [],
   "source": []
  }
 ],
 "metadata": {
  "kernelspec": {
   "display_name": "Python 3",
   "language": "python",
   "name": "python3"
  },
  "language_info": {
   "codemirror_mode": {
    "name": "ipython",
    "version": 3
   },
   "file_extension": ".py",
   "mimetype": "text/x-python",
   "name": "python",
   "nbconvert_exporter": "python",
   "pygments_lexer": "ipython3",
   "version": "3.8.5"
  }
 },
 "nbformat": 4,
 "nbformat_minor": 5
}
